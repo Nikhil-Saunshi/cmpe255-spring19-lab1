{
 "cells": [
  {
   "cell_type": "code",
   "execution_count": 176,
   "metadata": {},
   "outputs": [],
   "source": [
    "users =[\n",
    "    { \"id\":0, \"name\": \"Hero\" },\n",
    "    { \"id\":1, \"name\": \"Dunn\" },\n",
    "    { \"id\":2, \"name\": \"Sue\" },\n",
    "    { \"id\":3, \"name\": \"Chi\" },\n",
    "    { \"id\":4, \"name\": \"Thor\" },\n",
    "    { \"id\":5, \"name\": \"Clive\" },\n",
    "    { \"id\":6, \"name\": \"Hicks\" },\n",
    "    { \"id\":7, \"name\": \"Devin\" },\n",
    "    { \"id\":8, \"name\": \"Kate\" },\n",
    "    { \"id\":9, \"name\": \"Klein\" }    \n",
    "]\n",
    "\n",
    "friendship = [\n",
    "    (0, 1),\n",
    "    (0, 2),\n",
    "    (1, 2),\n",
    "    (1, 3),\n",
    "    (2, 3),\n",
    "    (3, 4),\n",
    "    (4, 5),\n",
    "    (5, 6),\n",
    "    (6, 7),\n",
    "    (6, 8),\n",
    "    (7, 8),\n",
    "    (8, 9)\n",
    "]"
   ]
  },
  {
   "cell_type": "code",
   "execution_count": 177,
   "metadata": {},
   "outputs": [],
   "source": [
    "def num_friends(user):\n",
    "    count = 0\n",
    "    for a in friendship:\n",
    "        if int(user['id']) in a:\n",
    "            count+=1\n",
    "    return count"
   ]
  },
  {
   "cell_type": "code",
   "execution_count": 178,
   "metadata": {},
   "outputs": [],
   "source": [
    "def sort_by_num_friends():\n",
    "    for user in users:\n",
    "        count = num_friends(user)\n",
    "        user['Number of friends'] = count\n",
    "    sorted_list = (sorted(users, key = lambda i: i['Number of friends'], reverse = True))\n",
    "    return sorted_list"
   ]
  },
  {
   "cell_type": "code",
   "execution_count": 179,
   "metadata": {},
   "outputs": [
    {
     "name": "stdout",
     "output_type": "stream",
     "text": [
      "For Dunn total number of friends is 3\n",
      "\n",
      "For Sue total number of friends is 3\n",
      "\n",
      "For Chi total number of friends is 3\n",
      "\n",
      "For Hicks total number of friends is 3\n",
      "\n",
      "For Kate total number of friends is 3\n",
      "\n",
      "For Hero total number of friends is 2\n",
      "\n",
      "For Thor total number of friends is 2\n",
      "\n",
      "For Clive total number of friends is 2\n",
      "\n",
      "For Devin total number of friends is 2\n",
      "\n",
      "For Klein total number of friends is 1\n",
      "\n"
     ]
    }
   ],
   "source": [
    "result = sort_by_num_friends()\n",
    "for element in result :\n",
    "    print(\"For \" + str(element['name'])+' '+ \"total number of friends is \"+str(element['Number of friends'])+'\\n')"
   ]
  },
  {
   "cell_type": "code",
   "execution_count": 180,
   "metadata": {},
   "outputs": [
    {
     "data": {
      "text/plain": [
       "2"
      ]
     },
     "execution_count": 180,
     "metadata": {},
     "output_type": "execute_result"
    }
   ],
   "source": [
    "num_friends(users[5])"
   ]
  }
 ],
 "metadata": {
  "kernelspec": {
   "display_name": "Python 3",
   "language": "python",
   "name": "python3"
  },
  "language_info": {
   "codemirror_mode": {
    "name": "ipython",
    "version": 3
   },
   "file_extension": ".py",
   "mimetype": "text/x-python",
   "name": "python",
   "nbconvert_exporter": "python",
   "pygments_lexer": "ipython3",
   "version": "3.6.5"
  }
 },
 "nbformat": 4,
 "nbformat_minor": 2
}
